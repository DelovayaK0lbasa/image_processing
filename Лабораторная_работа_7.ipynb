{
 "cells": [
  {
   "cell_type": "markdown",
   "metadata": {
    "id": "p0Da30HgH1-y"
   },
   "source": [
    "# Лабораторная работа 7. Сжатие изображений"
   ]
  },
  {
   "cell_type": "markdown",
   "metadata": {
    "id": "w9zf8nJDwTYG"
   },
   "source": [
    "## Задача 1"
   ]
  },
  {
   "cell_type": "markdown",
   "metadata": {
    "id": "h61qMI3hwTYH"
   },
   "source": [
    "Для условной картинки, представленной в на рисунке, реализовать кодирование Хаффмана. Посчитать коэффициент сжатия, энтропию и относительную избыточность информации."
   ]
  },
  {
   "attachments": {
    "image.png": {
     "image/png": "[encoded data removed]"
    }
   },
   "cell_type": "markdown",
   "metadata": {
    "id": "1Wxk8gtEwrt8"
   },
   "source": [
    "![image.png](attachment:image.png)"
   ]
  },
  {
   "cell_type": "code",
   "execution_count": 1,
   "metadata": {},
   "outputs": [],
   "source": [
    "import numpy as np"
   ]
  },
  {
   "cell_type": "code",
   "execution_count": 1,
   "metadata": {},
   "outputs": [
    {
     "name": "stdout",
     "output_type": "stream",
     "text": [
      "Кодировка Хаффмана: {0: '00', 16: '010', 24: '011', 2: '100', 26: '101', 40: '1100', 30: '11010', 46: '11011', 8: '111'}\n",
      "Закодированное изображение: 110100100111001111110110011111110100101111000010011011011001010101100010100\n",
      "Коэффициент сжатия: 2.67\n",
      "Энтропия: 2.95\n",
      "Относительная избыточность информации: 0.02\n"
     ]
    }
   ],
   "source": [
    "import numpy as np\n",
    "from collections import Counter, namedtuple\n",
    "import heapq\n",
    "import math\n",
    "\n",
    "class HuffmanNode(namedtuple(\"HuffmanNode\", [\"left\", \"right\"])):\n",
    "    def walk(self, code, acc):\n",
    "        self.left.walk(code, acc + \"0\")\n",
    "        self.right.walk(code, acc + \"1\")\n",
    "\n",
    "class HuffmanLeaf(namedtuple(\"HuffmanLeaf\", [\"char\"])):\n",
    "    def walk(self, code, acc):\n",
    "        code[self.char] = acc or \"0\"\n",
    "\n",
    "def huffman_code(freqs):\n",
    "    h = []\n",
    "    for char, freq in freqs.items():\n",
    "        h.append((freq, len(h), HuffmanLeaf(char)))\n",
    "    heapq.heapify(h)\n",
    "    count = len(h)\n",
    "    while len(h) > 1:\n",
    "        freq1, _count1, left = heapq.heappop(h)\n",
    "        freq2, _count2, right = heapq.heappop(h)\n",
    "        heapq.heappush(h, (freq1 + freq2, count, HuffmanNode(left, right)))\n",
    "        count += 1\n",
    "    code = {}\n",
    "    if h:\n",
    "        [(_freq, _count, root)] = h\n",
    "        root.walk(code, \"\")\n",
    "    return code\n",
    "\n",
    "# Входная матрица\n",
    "img = np.array([\n",
    "    [30, 16, 24, 2, 8],\n",
    "    [8, 24, 0, 8, 8],\n",
    "    [26, 0, 26, 8, 0],\n",
    "    [0, 2, 46, 24, 0],\n",
    "    [26, 16, 40, 16, 2]\n",
    "])\n",
    "\n",
    "# Подсчет частот\n",
    "values = img.flatten()\n",
    "freqs = dict(Counter(values))\n",
    "\n",
    "# Кодирование Хаффмана\n",
    "code = huffman_code(freqs)\n",
    "\n",
    "# Преобразование исходного изображения\n",
    "encoded_img = \"\".join(code[val] for val in values)\n",
    "\n",
    "# Вычисление некоторых характеристик\n",
    "\n",
    "# Коэффициент сжатия\n",
    "original_size = len(values) * 8  # оригинальный размер в битах (8 бит на пиксель)\n",
    "encoded_size = sum(freqs[val] * len(code[val]) for val in freqs)  # размер сжатого изображения в битах\n",
    "compression_ratio = original_size / encoded_size\n",
    "\n",
    "# Энтропия\n",
    "total_values = sum(freqs.values())\n",
    "entropy = -sum((freq / total_values) * math.log2(freq / total_values) for freq in freqs.values())\n",
    "\n",
    "# Средняя длина кодов Хаффмана\n",
    "avg_code_length = sum((freq / total_values) * len(code[val]) for val, freq in freqs.items())\n",
    "\n",
    "# Относительная избыточность информации\n",
    "redundancy = 1 - (entropy / avg_code_length)\n",
    "\n",
    "# Вывод результатов\n",
    "print(f\"Кодировка Хаффмана: {code}\")\n",
    "print(f\"Закодированное изображение: {encoded_img}\")\n",
    "print(f\"Коэффициент сжатия: {compression_ratio:.2f}\")\n",
    "print(f\"Энтропия: {entropy:.2f}\")\n",
    "print(f\"Относительная избыточность информации: {redundancy:.2f}\")"
   ]
  },
  {
   "cell_type": "code",
   "execution_count": 28,
   "metadata": {},
   "outputs": [
    {
     "data": {
      "text/plain": [
       "(array([ 0,  2,  8, 16, 24, 26, 30, 40, 46]),\n",
       " array([0.2 , 0.12, 0.2 , 0.12, 0.12, 0.12, 0.04, 0.04, 0.04]))"
      ]
     },
     "execution_count": 28,
     "metadata": {},
     "output_type": "execute_result"
    }
   ],
   "source": [
    "img = np.array([\n",
    "    [30, 16, 24, 2, 8],\n",
    "    [8, 24, 0, 8, 8],\n",
    "    [26, 0, 26, 8, 0],\n",
    "    [0, 2, 46, 24, 0],\n",
    "    [26, 16, 40, 16, 2]\n",
    "])\n",
    "vals, counts = np.unique(img, return_counts=True)\n",
    "probs = counts / counts.sum()\n",
    "vals, probs"
   ]
  },
  {
   "cell_type": "code",
   "execution_count": null,
   "metadata": {},
   "outputs": [
    {
     "data": {
      "text/plain": [
       "[(0, 0.2),\n",
       " (8, 0.2),\n",
       " (2, 0.12),\n",
       " (16, 0.12),\n",
       " (24, 0.12),\n",
       " (26, 0.12),\n",
       " (30, 0.04),\n",
       " (40, 0.04),\n",
       " (46, 0.04)]"
      ]
     },
     "execution_count": 30,
     "metadata": {},
     "output_type": "execute_result"
    }
   ],
   "source": [
    "reductions = []\n",
    "items = zip(vals, probs)\n",
    "items = sorted(items, key=lambda x: x[1], reverse=True)\n",
    "num_reduction = len(items)\n",
    "while num_reduction > 2:\n",
    "    buf = items[:-2]\n",
    "    new_item = []\n",
    "    for _ in items:\n",
    "        new_item = map()\n",
    "        buf.append(sum(items[-2:]))\n",
    "    probs_old = sorted(buf, reverse=True)\n",
    "    print(probs_old)\n",
    "    break\n",
    "items"
   ]
  },
  {
   "cell_type": "code",
   "execution_count": null,
   "metadata": {},
   "outputs": [],
   "source": [
    "probs_old[:-2].append(sum(probs_old[-2:]))\n"
   ]
  },
  {
   "cell_type": "markdown",
   "metadata": {
    "id": "PJXHbhwOZ7xQ"
   },
   "source": [
    "## Задача 2"
   ]
  },
  {
   "cell_type": "markdown",
   "metadata": {
    "id": "KYJkH7VIZ9fX"
   },
   "source": [
    "Еще будет"
   ]
  }
 ],
 "metadata": {
  "colab": {
   "provenance": [],
   "toc_visible": true
  },
  "kernelspec": {
   "display_name": "Python 3",
   "name": "python3"
  },
  "language_info": {
   "codemirror_mode": {
    "name": "ipython",
    "version": 3
   },
   "file_extension": ".py",
   "mimetype": "text/x-python",
   "name": "python",
   "nbconvert_exporter": "python",
   "pygments_lexer": "ipython3",
   "version": "3.9.7"
  }
 },
 "nbformat": 4,
 "nbformat_minor": 0
}
